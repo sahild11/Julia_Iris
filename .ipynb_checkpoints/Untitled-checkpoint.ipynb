{
 "cells": [
  {
   "cell_type": "code",
   "execution_count": 6,
   "metadata": {},
   "outputs": [
    {
     "name": "stderr",
     "output_type": "stream",
     "text": [
      "┌ Info: Precompiling CSV [336ed68f-0bac-5ca0-87d4-7b16caf5d00b]\n",
      "└ @ Base loading.jl:1273\n"
     ]
    }
   ],
   "source": [
    "using DataFrames\n",
    "using CSV"
   ]
  },
  {
   "cell_type": "code",
   "execution_count": 17,
   "metadata": {
    "scrolled": true
   },
   "outputs": [
    {
     "name": "stdout",
     "output_type": "stream",
     "text": [
      "1. Title: Iris Plants Database\n",
      "\tUpdated Sept 21 by C.Blake - Added discrepency information\n",
      "\n",
      "2. Sources:\n",
      "     (a) Creator: R.A. Fisher\n",
      "     (b) Donor: Michael Marshall (MARSHALL%PLU@io.arc.nasa.gov)\n",
      "     (c) Date: July, 1988\n",
      "\n",
      "3. Past Usage:\n",
      "   - Publications: too many to mention!!!  Here are a few.\n",
      "   1. Fisher,R.A. \"The use of multiple measurements in taxonomic problems\"\n",
      "      Annual Eugenics, 7, Part II, 179-188 (1936); also in \"Contributions\n",
      "      to Mathematical Statistics\" (John Wiley, NY, 1950).\n",
      "   2. Duda,R.O., & Hart,P.E. (1973) Pattern Classification and Scene Analysis.\n",
      "      (Q327.D83) John Wiley & Sons.  ISBN 0-471-22361-1.  See page 218.\n",
      "   3. Dasarathy, B.V. (1980) \"Nosing Around the Neighborhood: A New System\n",
      "      Structure and Classification Rule for Recognition in Partially Exposed\n",
      "      Environments\".  IEEE Transactions on Pattern Analysis and Machine\n",
      "      Intelligence, Vol. PAMI-2, No. 1, 67-71.\n",
      "      -- Results:\n",
      "         -- very low misclassification rates (0% for the setosa class)\n",
      "   4. Gates, G.W. (1972) \"The Reduced Nearest Neighbor Rule\".  IEEE \n",
      "      Transactions on Information Theory, May 1972, 431-433.\n",
      "      -- Results:\n",
      "         -- very low misclassification rates again\n",
      "   5. See also: 1988 MLC Proceedings, 54-64.  Cheeseman et al's AUTOCLASS II\n",
      "      conceptual clustering system finds 3 classes in the data.\n",
      "\n",
      "4. Relevant Information:\n",
      "   --- This is perhaps the best known database to be found in the pattern\n",
      "       recognition literature.  Fisher's paper is a classic in the field\n",
      "       and is referenced frequently to this day.  (See Duda & Hart, for\n",
      "       example.)  The data set contains 3 classes of 50 instances each,\n",
      "       where each class refers to a type of iris plant.  One class is\n",
      "       linearly separable from the other 2; the latter are NOT linearly\n",
      "       separable from each other.\n",
      "   --- Predicted attribute: class of iris plant.\n",
      "   --- This is an exceedingly simple domain.\n",
      "   --- This data differs from the data presented in Fishers article\n",
      "\t(identified by Steve Chadwick,  spchadwick@espeedaz.net )\n",
      "\tThe 35th sample should be: 4.9,3.1,1.5,0.2,\"Iris-setosa\"\n",
      "\twhere the error is in the fourth feature.\n",
      "\tThe 38th sample: 4.9,3.6,1.4,0.1,\"Iris-setosa\"\n",
      "\twhere the errors are in the second and third features.  \n",
      "\n",
      "5. Number of Instances: 150 (50 in each of three classes)\n",
      "\n",
      "6. Number of Attributes: 4 numeric, predictive attributes and the class\n",
      "\n",
      "7. Attribute Information:\n",
      "   1. sepal length in cm\n",
      "   2. sepal width in cm\n",
      "   3. petal length in cm\n",
      "   4. petal width in cm\n",
      "   5. class: \n",
      "      -- Iris Setosa\n",
      "      -- Iris Versicolour\n",
      "      -- Iris Virginica\n",
      "\n",
      "8. Missing Attribute Values: None\n",
      "\n",
      "Summary Statistics:\n",
      "\t         Min  Max   Mean    SD   Class Correlation\n",
      "   sepal length: 4.3  7.9   5.84  0.83    0.7826   \n",
      "    sepal width: 2.0  4.4   3.05  0.43   -0.4194\n",
      "   petal length: 1.0  6.9   3.76  1.76    0.9490  (high!)\n",
      "    petal width: 0.1  2.5   1.20  0.76    0.9565  (high!)\n",
      "\n",
      "9. Class Distribution: 33.3% for each of 3 classes.\n"
     ]
    }
   ],
   "source": [
    "readdir(\"data\")\n",
    "print(read(\"data/iris.names\",String))"
   ]
  },
  {
   "cell_type": "code",
   "execution_count": 53,
   "metadata": {},
   "outputs": [
    {
     "name": "stdout",
     "output_type": "stream",
     "text": [
      "thread = 1 warning: only found 1 / 5 columns on data row: 151. Filling remaining columns with `missing`\n"
     ]
    },
    {
     "data": {
      "text/html": [
       "<table class=\"data-frame\"><thead><tr><th></th><th>sep_len</th><th>sep_width</th><th>pet_length</th><th>pet_width</th><th>species</th></tr><tr><th></th><th>Float64⍰</th><th>Float64⍰</th><th>Float64⍰</th><th>Float64⍰</th><th>String⍰</th></tr></thead><tbody><p>5 rows × 5 columns</p><tr><th>1</th><td>6.3</td><td>2.5</td><td>5.0</td><td>1.9</td><td>Iris-virginica</td></tr><tr><th>2</th><td>6.5</td><td>3.0</td><td>5.2</td><td>2.0</td><td>Iris-virginica</td></tr><tr><th>3</th><td>6.2</td><td>3.4</td><td>5.4</td><td>2.3</td><td>Iris-virginica</td></tr><tr><th>4</th><td>5.9</td><td>3.0</td><td>5.1</td><td>1.8</td><td>Iris-virginica</td></tr><tr><th>5</th><td>missing</td><td>missing</td><td>missing</td><td>missing</td><td>missing</td></tr></tbody></table>"
      ],
      "text/latex": [
       "\\begin{tabular}{r|ccccc}\n",
       "\t& sep\\_len & sep\\_width & pet\\_length & pet\\_width & species\\\\\n",
       "\t\\hline\n",
       "\t& Float64⍰ & Float64⍰ & Float64⍰ & Float64⍰ & String⍰\\\\\n",
       "\t\\hline\n",
       "\t1 & 6.3 & 2.5 & 5.0 & 1.9 & Iris-virginica \\\\\n",
       "\t2 & 6.5 & 3.0 & 5.2 & 2.0 & Iris-virginica \\\\\n",
       "\t3 & 6.2 & 3.4 & 5.4 & 2.3 & Iris-virginica \\\\\n",
       "\t4 & 5.9 & 3.0 & 5.1 & 1.8 & Iris-virginica \\\\\n",
       "\t5 &  &  &  &  &  \\\\\n",
       "\\end{tabular}\n"
      ],
      "text/plain": [
       "5×5 DataFrame\n",
       "│ Row │ sep_len  │ sep_width │ pet_length │ pet_width │ species        │\n",
       "│     │ \u001b[90mFloat64⍰\u001b[39m │ \u001b[90mFloat64⍰\u001b[39m  │ \u001b[90mFloat64⍰\u001b[39m   │ \u001b[90mFloat64⍰\u001b[39m  │ \u001b[90mString⍰\u001b[39m        │\n",
       "├─────┼──────────┼───────────┼────────────┼───────────┼────────────────┤\n",
       "│ 1   │ 6.3      │ 2.5       │ 5.0        │ 1.9       │ Iris-virginica │\n",
       "│ 2   │ 6.5      │ 3.0       │ 5.2        │ 2.0       │ Iris-virginica │\n",
       "│ 3   │ 6.2      │ 3.4       │ 5.4        │ 2.3       │ Iris-virginica │\n",
       "│ 4   │ 5.9      │ 3.0       │ 5.1        │ 1.8       │ Iris-virginica │\n",
       "│ 5   │ \u001b[90mmissing\u001b[39m  │ \u001b[90mmissing\u001b[39m   │ \u001b[90mmissing\u001b[39m    │ \u001b[90mmissing\u001b[39m   │ \u001b[90mmissing\u001b[39m        │"
      ]
     },
     "execution_count": 53,
     "metadata": {},
     "output_type": "execute_result"
    }
   ],
   "source": [
    "iris_data = CSV.read(\"data/iris.data\",copycols=true,header=[\"sep_len\",\"sep_width\",\"pet_length\",\"pet_width\",\"species\"])\n",
    "last(iris_data,5)"
   ]
  },
  {
   "cell_type": "code",
   "execution_count": 54,
   "metadata": {},
   "outputs": [
    {
     "data": {
      "text/html": [
       "<table class=\"data-frame\"><thead><tr><th></th><th>sep_len</th><th>sep_width</th><th>pet_length</th><th>pet_width</th><th>species</th></tr><tr><th></th><th>Float64⍰</th><th>Float64⍰</th><th>Float64⍰</th><th>Float64⍰</th><th>String⍰</th></tr></thead><tbody><p>5 rows × 5 columns</p><tr><th>1</th><td>6.7</td><td>3.0</td><td>5.2</td><td>2.3</td><td>Iris-virginica</td></tr><tr><th>2</th><td>6.3</td><td>2.5</td><td>5.0</td><td>1.9</td><td>Iris-virginica</td></tr><tr><th>3</th><td>6.5</td><td>3.0</td><td>5.2</td><td>2.0</td><td>Iris-virginica</td></tr><tr><th>4</th><td>6.2</td><td>3.4</td><td>5.4</td><td>2.3</td><td>Iris-virginica</td></tr><tr><th>5</th><td>5.9</td><td>3.0</td><td>5.1</td><td>1.8</td><td>Iris-virginica</td></tr></tbody></table>"
      ],
      "text/latex": [
       "\\begin{tabular}{r|ccccc}\n",
       "\t& sep\\_len & sep\\_width & pet\\_length & pet\\_width & species\\\\\n",
       "\t\\hline\n",
       "\t& Float64⍰ & Float64⍰ & Float64⍰ & Float64⍰ & String⍰\\\\\n",
       "\t\\hline\n",
       "\t1 & 6.7 & 3.0 & 5.2 & 2.3 & Iris-virginica \\\\\n",
       "\t2 & 6.3 & 2.5 & 5.0 & 1.9 & Iris-virginica \\\\\n",
       "\t3 & 6.5 & 3.0 & 5.2 & 2.0 & Iris-virginica \\\\\n",
       "\t4 & 6.2 & 3.4 & 5.4 & 2.3 & Iris-virginica \\\\\n",
       "\t5 & 5.9 & 3.0 & 5.1 & 1.8 & Iris-virginica \\\\\n",
       "\\end{tabular}\n"
      ],
      "text/plain": [
       "5×5 DataFrame\n",
       "│ Row │ sep_len  │ sep_width │ pet_length │ pet_width │ species        │\n",
       "│     │ \u001b[90mFloat64⍰\u001b[39m │ \u001b[90mFloat64⍰\u001b[39m  │ \u001b[90mFloat64⍰\u001b[39m   │ \u001b[90mFloat64⍰\u001b[39m  │ \u001b[90mString⍰\u001b[39m        │\n",
       "├─────┼──────────┼───────────┼────────────┼───────────┼────────────────┤\n",
       "│ 1   │ 6.7      │ 3.0       │ 5.2        │ 2.3       │ Iris-virginica │\n",
       "│ 2   │ 6.3      │ 2.5       │ 5.0        │ 1.9       │ Iris-virginica │\n",
       "│ 3   │ 6.5      │ 3.0       │ 5.2        │ 2.0       │ Iris-virginica │\n",
       "│ 4   │ 6.2      │ 3.4       │ 5.4        │ 2.3       │ Iris-virginica │\n",
       "│ 5   │ 5.9      │ 3.0       │ 5.1        │ 1.8       │ Iris-virginica │"
      ]
     },
     "execution_count": 54,
     "metadata": {},
     "output_type": "execute_result"
    }
   ],
   "source": [
    "iris_data = iris_data[1:150,:]\n",
    "last(iris_data,5)"
   ]
  },
  {
   "cell_type": "code",
   "execution_count": 43,
   "metadata": {},
   "outputs": [
    {
     "data": {
      "text/html": [
       "<table class=\"data-frame\"><thead><tr><th></th><th>variable</th><th>mean</th><th>min</th><th>median</th><th>max</th><th>nunique</th><th>nmissing</th><th>eltype</th></tr><tr><th></th><th>Symbol</th><th>Union…</th><th>Any</th><th>Union…</th><th>Any</th><th>Union…</th><th>Int64</th><th>Union</th></tr></thead><tbody><p>5 rows × 8 columns</p><tr><th>1</th><td>sep_len</td><td>5.84333</td><td>4.3</td><td>5.8</td><td>7.9</td><td></td><td>1</td><td>Union{Missing, Float64}</td></tr><tr><th>2</th><td>sep_width</td><td>3.054</td><td>2.0</td><td>3.0</td><td>4.4</td><td></td><td>1</td><td>Union{Missing, Float64}</td></tr><tr><th>3</th><td>pet_length</td><td>3.75867</td><td>1.0</td><td>4.35</td><td>6.9</td><td></td><td>1</td><td>Union{Missing, Float64}</td></tr><tr><th>4</th><td>pet_width</td><td>1.19867</td><td>0.1</td><td>1.3</td><td>2.5</td><td></td><td>1</td><td>Union{Missing, Float64}</td></tr><tr><th>5</th><td>species</td><td></td><td>Iris-setosa</td><td></td><td>Iris-virginica</td><td>3</td><td>1</td><td>Union{Missing, String}</td></tr></tbody></table>"
      ],
      "text/latex": [
       "\\begin{tabular}{r|cccccccc}\n",
       "\t& variable & mean & min & median & max & nunique & nmissing & eltype\\\\\n",
       "\t\\hline\n",
       "\t& Symbol & Union… & Any & Union… & Any & Union… & Int64 & Union\\\\\n",
       "\t\\hline\n",
       "\t1 & sep\\_len & 5.84333 & 4.3 & 5.8 & 7.9 &  & 1 & Union\\{Missing, Float64\\} \\\\\n",
       "\t2 & sep\\_width & 3.054 & 2.0 & 3.0 & 4.4 &  & 1 & Union\\{Missing, Float64\\} \\\\\n",
       "\t3 & pet\\_length & 3.75867 & 1.0 & 4.35 & 6.9 &  & 1 & Union\\{Missing, Float64\\} \\\\\n",
       "\t4 & pet\\_width & 1.19867 & 0.1 & 1.3 & 2.5 &  & 1 & Union\\{Missing, Float64\\} \\\\\n",
       "\t5 & species &  & Iris-setosa &  & Iris-virginica & 3 & 1 & Union\\{Missing, String\\} \\\\\n",
       "\\end{tabular}\n"
      ],
      "text/plain": [
       "5×8 DataFrame. Omitted printing of 2 columns\n",
       "│ Row │ variable   │ mean    │ min         │ median │ max            │ nunique │\n",
       "│     │ \u001b[90mSymbol\u001b[39m     │ \u001b[90mUnion…\u001b[39m  │ \u001b[90mAny\u001b[39m         │ \u001b[90mUnion…\u001b[39m │ \u001b[90mAny\u001b[39m            │ \u001b[90mUnion…\u001b[39m  │\n",
       "├─────┼────────────┼─────────┼─────────────┼────────┼────────────────┼─────────┤\n",
       "│ 1   │ sep_len    │ 5.84333 │ 4.3         │ 5.8    │ 7.9            │         │\n",
       "│ 2   │ sep_width  │ 3.054   │ 2.0         │ 3.0    │ 4.4            │         │\n",
       "│ 3   │ pet_length │ 3.75867 │ 1.0         │ 4.35   │ 6.9            │         │\n",
       "│ 4   │ pet_width  │ 1.19867 │ 0.1         │ 1.3    │ 2.5            │         │\n",
       "│ 5   │ species    │         │ Iris-setosa │        │ Iris-virginica │ 3       │"
      ]
     },
     "execution_count": 43,
     "metadata": {},
     "output_type": "execute_result"
    }
   ],
   "source": [
    "describe(iris_data)"
   ]
  },
  {
   "cell_type": "code",
   "execution_count": 40,
   "metadata": {},
   "outputs": [
    {
     "ename": "ArgumentError",
     "evalue": "ArgumentError: invalid index: :Dataframe of type Symbol",
     "output_type": "error",
     "traceback": [
      "ArgumentError: invalid index: :Dataframe of type Symbol",
      "",
      "Stacktrace:",
      " [1] to_index(::Symbol) at ./indices.jl:273",
      " [2] to_index(::Array{Symbol,1}, ::Symbol) at ./indices.jl:250",
      " [3] to_indices at ./indices.jl:301 [inlined]",
      " [4] to_indices at ./indices.jl:298 [inlined]",
      " [5] getindex(::Array{Symbol,1}, ::Symbol) at ./abstractarray.jl:981",
      " [6] top-level scope at In[40]:1"
     ]
    }
   ],
   "source": [
    "names(DataFrames)"
   ]
  }
 ],
 "metadata": {
  "kernelspec": {
   "display_name": "Julia 1.3.1",
   "language": "julia",
   "name": "julia-1.3"
  },
  "language_info": {
   "file_extension": ".jl",
   "mimetype": "application/julia",
   "name": "julia",
   "version": "1.3.1"
  }
 },
 "nbformat": 4,
 "nbformat_minor": 4
}
